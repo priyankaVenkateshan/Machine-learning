{
  "nbformat": 4,
  "nbformat_minor": 0,
  "metadata": {
    "colab": {
      "provenance": [],
      "authorship_tag": "ABX9TyP7Pib94Wxm9sblXYn3P00/",
      "include_colab_link": true
    },
    "kernelspec": {
      "name": "python3",
      "display_name": "Python 3"
    },
    "language_info": {
      "name": "python"
    }
  },
  "cells": [
    {
      "cell_type": "markdown",
      "metadata": {
        "id": "view-in-github",
        "colab_type": "text"
      },
      "source": [
        "<a href=\"https://colab.research.google.com/github/priyankaVenkateshan/Machine-learning/blob/main/CA_2_Q2%5BMulticlass_Classification_ANN_with_the_Iris_Flowers_Dataset%5D.ipynb\" target=\"_parent\"><img src=\"https://colab.research.google.com/assets/colab-badge.svg\" alt=\"Open In Colab\"/></a>"
      ]
    },
    {
      "cell_type": "markdown",
      "source": [
        "## 2.Design a Multiclass Classification ANN with the Iris Flowers Dataset."
      ],
      "metadata": {
        "id": "ktcQSjDKHY3p"
      }
    },
    {
      "cell_type": "code",
      "execution_count": 1,
      "metadata": {
        "id": "ypL-SrMjHKnf"
      },
      "outputs": [],
      "source": [
        "import numpy as np\n",
        "from sklearn import datasets\n",
        "from sklearn.model_selection import train_test_split"
      ]
    },
    {
      "cell_type": "code",
      "source": [
        "# Import Keras modules\n",
        "from keras import models,layers\n",
        "from keras.utils import to_categorical"
      ],
      "metadata": {
        "id": "_OzeaJp4Hfey"
      },
      "execution_count": 2,
      "outputs": []
    },
    {
      "cell_type": "code",
      "source": [
        "# Create the network\n",
        "network = models.Sequential()\n",
        "network.add(layers.Dense(512, activation='relu', input_shape=(4,)))\n",
        "network.add(layers.Dense(3, activation='softmax'))"
      ],
      "metadata": {
        "id": "92DcoWTOHroP"
      },
      "execution_count": 3,
      "outputs": []
    },
    {
      "cell_type": "code",
      "source": [
        "# Compile the network\n",
        "network.compile(optimizer='adam',\n",
        "                loss='categorical_crossentropy',\n",
        "                metrics=['accuracy'])"
      ],
      "metadata": {
        "id": "QLbKal_oHw_5"
      },
      "execution_count": 4,
      "outputs": []
    },
    {
      "cell_type": "code",
      "source": [
        "# Load the iris dataset\n",
        "iris = datasets.load_iris()\n",
        "X = iris.data\n",
        "y = iris.target"
      ],
      "metadata": {
        "id": "uR-fdMjRH2Yf"
      },
      "execution_count": 5,
      "outputs": []
    },
    {
      "cell_type": "code",
      "source": [
        "# Create training and test split\n",
        "X_train, X_test, y_train, y_test = train_test_split(X, y, test_size=0.3, stratify=y, random_state=42)"
      ],
      "metadata": {
        "id": "gsfRnEWYH4tw"
      },
      "execution_count": 6,
      "outputs": []
    },
    {
      "cell_type": "code",
      "source": [
        " # Create categorical labels\n",
        "train_labels = to_categorical(y_train,3)\n",
        "test_labels = to_categorical(y_test,3)"
      ],
      "metadata": {
        "id": "XkQcYtjFH67x"
      },
      "execution_count": 7,
      "outputs": []
    },
    {
      "cell_type": "code",
      "source": [
        "# Fit the neural network\n",
        "network.fit(X_train, train_labels, epochs=20, batch_size=40)"
      ],
      "metadata": {
        "colab": {
          "base_uri": "https://localhost:8080/"
        },
        "id": "ePn3uF_KIAP_",
        "outputId": "bb10955d-1381-49bc-88d4-713eaa30a8cf"
      },
      "execution_count": 8,
      "outputs": [
        {
          "output_type": "stream",
          "name": "stdout",
          "text": [
            "Epoch 1/20\n",
            "3/3 [==============================] - 1s 11ms/step - loss: 1.0620 - accuracy: 0.6667\n",
            "Epoch 2/20\n",
            "3/3 [==============================] - 0s 5ms/step - loss: 0.9400 - accuracy: 0.6762\n",
            "Epoch 3/20\n",
            "3/3 [==============================] - 0s 5ms/step - loss: 0.8743 - accuracy: 0.7905\n",
            "Epoch 4/20\n",
            "3/3 [==============================] - 0s 5ms/step - loss: 0.8013 - accuracy: 0.6667\n",
            "Epoch 5/20\n",
            "3/3 [==============================] - 0s 5ms/step - loss: 0.7416 - accuracy: 0.6667\n",
            "Epoch 6/20\n",
            "3/3 [==============================] - 0s 5ms/step - loss: 0.6955 - accuracy: 0.7143\n",
            "Epoch 7/20\n",
            "3/3 [==============================] - 0s 5ms/step - loss: 0.6616 - accuracy: 0.8762\n",
            "Epoch 8/20\n",
            "3/3 [==============================] - 0s 5ms/step - loss: 0.6194 - accuracy: 0.9238\n",
            "Epoch 9/20\n",
            "3/3 [==============================] - 0s 5ms/step - loss: 0.5904 - accuracy: 0.7143\n",
            "Epoch 10/20\n",
            "3/3 [==============================] - 0s 5ms/step - loss: 0.5624 - accuracy: 0.6857\n",
            "Epoch 11/20\n",
            "3/3 [==============================] - 0s 4ms/step - loss: 0.5361 - accuracy: 0.8286\n",
            "Epoch 12/20\n",
            "3/3 [==============================] - 0s 4ms/step - loss: 0.5187 - accuracy: 0.9714\n",
            "Epoch 13/20\n",
            "3/3 [==============================] - 0s 4ms/step - loss: 0.4994 - accuracy: 0.9714\n",
            "Epoch 14/20\n",
            "3/3 [==============================] - 0s 5ms/step - loss: 0.4814 - accuracy: 0.8952\n",
            "Epoch 15/20\n",
            "3/3 [==============================] - 0s 4ms/step - loss: 0.4664 - accuracy: 0.8000\n",
            "Epoch 16/20\n",
            "3/3 [==============================] - 0s 5ms/step - loss: 0.4490 - accuracy: 0.8857\n",
            "Epoch 17/20\n",
            "3/3 [==============================] - 0s 5ms/step - loss: 0.4366 - accuracy: 0.9714\n",
            "Epoch 18/20\n",
            "3/3 [==============================] - 0s 4ms/step - loss: 0.4275 - accuracy: 0.9714\n",
            "Epoch 19/20\n",
            "3/3 [==============================] - 0s 4ms/step - loss: 0.4126 - accuracy: 0.9714\n",
            "Epoch 20/20\n",
            "3/3 [==============================] - 0s 4ms/step - loss: 0.4002 - accuracy: 0.9524\n"
          ]
        },
        {
          "output_type": "execute_result",
          "data": {
            "text/plain": [
              "<keras.callbacks.History at 0x7f39004f8070>"
            ]
          },
          "metadata": {},
          "execution_count": 8
        }
      ]
    },
    {
      "cell_type": "code",
      "source": [
        "X_test.shape"
      ],
      "metadata": {
        "colab": {
          "base_uri": "https://localhost:8080/"
        },
        "id": "2S_XVIkMICsS",
        "outputId": "2e7a2d41-f623-4815-a9b8-d345f5bb43a5"
      },
      "execution_count": 9,
      "outputs": [
        {
          "output_type": "execute_result",
          "data": {
            "text/plain": [
              "(45, 4)"
            ]
          },
          "metadata": {},
          "execution_count": 9
        }
      ]
    },
    {
      "cell_type": "code",
      "source": [
        "y_test.shape"
      ],
      "metadata": {
        "colab": {
          "base_uri": "https://localhost:8080/"
        },
        "id": "UfQekEexIGfk",
        "outputId": "0f2b8654-1ba2-4a64-cab5-752c867314b1"
      },
      "execution_count": 10,
      "outputs": [
        {
          "output_type": "execute_result",
          "data": {
            "text/plain": [
              "(45,)"
            ]
          },
          "metadata": {},
          "execution_count": 10
        }
      ]
    },
    {
      "cell_type": "code",
      "source": [
        "# Get the accuracy of test data set\n",
        "test_acc = network.evaluate(X_test, test_labels)\n",
        "# Print the test accuracy\n",
        "print('Test Accuracy: ', test_acc)"
      ],
      "metadata": {
        "colab": {
          "base_uri": "https://localhost:8080/"
        },
        "id": "xQiajzvqIJLS",
        "outputId": "5ec014b9-79c5-4eb0-cbcf-9486f3c36bda"
      },
      "execution_count": 11,
      "outputs": [
        {
          "output_type": "stream",
          "name": "stdout",
          "text": [
            "2/2 [==============================] - 0s 14ms/step - loss: 0.4087 - accuracy: 0.8444\n",
            "Test Accuracy:  [0.4087248146533966, 0.8444444537162781]\n"
          ]
        }
      ]
    },
    {
      "cell_type": "code",
      "source": [
        "y_test[2]"
      ],
      "metadata": {
        "colab": {
          "base_uri": "https://localhost:8080/"
        },
        "id": "Kz5UZbafINdL",
        "outputId": "1e8ba304-4b26-4c4e-f4b8-a9757a84ae9d"
      },
      "execution_count": 12,
      "outputs": [
        {
          "output_type": "execute_result",
          "data": {
            "text/plain": [
              "2"
            ]
          },
          "metadata": {},
          "execution_count": 12
        }
      ]
    },
    {
      "cell_type": "code",
      "source": [
        "y_train[2]"
      ],
      "metadata": {
        "colab": {
          "base_uri": "https://localhost:8080/"
        },
        "id": "atNtgoydIQLG",
        "outputId": "542c2e06-c64a-4e35-f6b4-11731bc281aa"
      },
      "execution_count": 13,
      "outputs": [
        {
          "output_type": "execute_result",
          "data": {
            "text/plain": [
              "0"
            ]
          },
          "metadata": {},
          "execution_count": 13
        }
      ]
    },
    {
      "cell_type": "code",
      "source": [],
      "metadata": {
        "id": "9rmxP9g5IR9c"
      },
      "execution_count": null,
      "outputs": []
    }
  ]
}